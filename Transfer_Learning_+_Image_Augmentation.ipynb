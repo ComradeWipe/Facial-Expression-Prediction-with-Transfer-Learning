{
  "nbformat": 4,
  "nbformat_minor": 0,
  "metadata": {
    "colab": {
      "provenance": [],
      "gpuType": "T4"
    },
    "kernelspec": {
      "name": "python3",
      "display_name": "Python 3"
    },
    "language_info": {
      "name": "python"
    },
    "accelerator": "GPU"
  },
  "cells": [
    {
      "cell_type": "markdown",
      "source": [
        "# 0. Prerequisites\n",
        "\n",
        "Use the following code to get you started!"
      ],
      "metadata": {
        "id": "U9liaHh5IiuO"
      }
    },
    {
      "cell_type": "code",
      "metadata": {
        "id": "iBMcobPHdD8O"
      },
      "source": [
        "import os\n",
        "import numpy as np\n",
        "import matplotlib.pyplot as plt\n",
        "import tensorflow as tf"
      ],
      "execution_count": null,
      "outputs": []
    },
    {
      "cell_type": "code",
      "execution_count": null,
      "metadata": {
        "_cell_guid": "b1076dfc-b9ad-4769-8c92-a6c4dae69d19",
        "_uuid": "8f2839f25d086af736a60e9eeb907d3b93b6e0e5",
        "id": "ASRU2nWFw7X_"
      },
      "outputs": [],
      "source": [
        "import numpy as np\n",
        "import pandas as pd\n",
        "import os\n",
        "import matplotlib.pyplot as plt\n",
        "import cv2\n",
        "import tensorflow as tf\n",
        "import tensorflow.keras\n",
        "import time\n",
        "import imutils\n",
        "import hashlib\n",
        "\n",
        "from sklearn.model_selection import train_test_split\n",
        "from tensorflow.keras.models import Sequential, load_model\n",
        "from tensorflow.keras.layers import BatchNormalization, Conv2D, MaxPooling2D, AveragePooling2D, Dense, Activation, Dropout, Flatten, Input\n",
        "from tensorflow.keras.metrics import categorical_accuracy\n",
        "from tensorflow.keras.callbacks import ModelCheckpoint, EarlyStopping, ReduceLROnPlateau\n",
        "from tensorflow.keras.optimizers import *\n",
        "from tensorflow.keras.models import Model\n",
        "from tensorflow.keras.preprocessing.image import load_img, img_to_array\n",
        "from tensorflow.keras.preprocessing import image\n",
        "from tensorflow.keras.preprocessing.image import ImageDataGenerator\n",
        "from tensorflow.keras.applications.mobilenet_v2 import preprocess_input\n",
        "from tensorflow.keras.applications import MobileNetV2\n",
        "from typing import List\n",
        "from pathlib import Path\n",
        "from imutils.video import VideoStream\n",
        "from PIL import Image"
      ]
    },
    {
      "cell_type": "code",
      "execution_count": null,
      "metadata": {
        "_cell_guid": "b1076dfc-b9ad-4769-8c92-a6c4dae69d19",
        "_uuid": "8f2839f25d086af736a60e9eeb907d3b93b6e0e5",
        "id": "efWdAnrSw7YB"
      },
      "outputs": [],
      "source": [
        "label_map = ['Anger', 'Disgust', 'Fear', 'Happy', 'Sad', 'Surprise', 'Neutral']"
      ]
    },
    {
      "cell_type": "markdown",
      "metadata": {
        "id": "v77rlkCKW0IJ"
      },
      "source": [
        "## Data preprocessing"
      ]
    },
    {
      "cell_type": "markdown",
      "metadata": {
        "id": "0GoKGm1duzgk"
      },
      "source": [
        "### Data download\n",
        "\n",
        "the data file is here:\n",
        "\n",
        "https://drive.google.com/file/d/125R6BqHPlUZa2M0Y9HPXcLC2OE5P1YMl/view?usp=share_link\n"
      ]
    },
    {
      "cell_type": "code",
      "source": [
        "!gdown 125R6BqHPlUZa2M0Y9HPXcLC2OE5P1YMl"
      ],
      "metadata": {
        "id": "g0fw2Sab7Hyw",
        "colab": {
          "base_uri": "https://localhost:8080/"
        },
        "outputId": "29212580-a338-4b9a-9829-7d9bab844173"
      },
      "execution_count": null,
      "outputs": [
        {
          "output_type": "stream",
          "name": "stdout",
          "text": [
            "Downloading...\n",
            "From: https://drive.google.com/uc?id=125R6BqHPlUZa2M0Y9HPXcLC2OE5P1YMl\n",
            "To: /content/dataset.zip\n",
            "100% 258M/258M [00:03<00:00, 82.5MB/s]\n"
          ]
        }
      ]
    },
    {
      "cell_type": "code",
      "source": [
        "!unzip dataset.zip"
      ],
      "metadata": {
        "id": "wJmOBNIB7PLH"
      },
      "execution_count": null,
      "outputs": []
    },
    {
      "cell_type": "markdown",
      "metadata": {
        "id": "6jobDTUs8Wxu"
      },
      "source": [
        "### Create a dataset"
      ]
    },
    {
      "cell_type": "markdown",
      "metadata": {
        "id": "lAmtzsnjDNhB"
      },
      "source": [
        "Define some parameters for the loader:"
      ]
    },
    {
      "cell_type": "code",
      "metadata": {
        "id": "qJdpyqK541ty"
      },
      "source": [
        "BATCH_SIZE = 64\n",
        "IMG_HEIGHT = 224\n",
        "IMG_WIDTH = 224\n",
        "IMG_SIZE = 224\n",
        "IMG_SHAPE = (IMG_SIZE, IMG_SIZE, 3)"
      ],
      "execution_count": null,
      "outputs": []
    },
    {
      "cell_type": "markdown",
      "metadata": {
        "id": "ehhW308g8soJ"
      },
      "source": [
        "It's good practice to use a validation split when developing your model. Even if here we already have training and validation, it's still worth learning how to do it. We will do the train/validation split within this training set. You will use 80% of the images for training and 20% for validation."
      ]
    },
    {
      "cell_type": "code",
      "source": [
        "import pathlib\n",
        "data_dir = pathlib.Path(\"dataset/train\")\n",
        "val_dir = pathlib.Path(\"dataset/val\")"
      ],
      "metadata": {
        "id": "oTEf5JnB7ntB"
      },
      "execution_count": null,
      "outputs": []
    },
    {
      "cell_type": "code",
      "metadata": {
        "id": "chqakIP14PDm",
        "colab": {
          "base_uri": "https://localhost:8080/"
        },
        "outputId": "808664f3-eca0-4abb-d33c-2b9227ee6ded"
      },
      "source": [
        "train_ds = tf.keras.preprocessing.image_dataset_from_directory(\n",
        "  data_dir,\n",
        "  validation_split=0.2,\n",
        "  subset=\"training\",\n",
        "  seed=1314520,\n",
        "  image_size=(IMG_HEIGHT, IMG_WIDTH),\n",
        "  batch_size=BATCH_SIZE,\n",
        "  label_mode='categorical')"
      ],
      "execution_count": null,
      "outputs": [
        {
          "output_type": "stream",
          "name": "stdout",
          "text": [
            "Found 25807 files belonging to 7 classes.\n",
            "Using 20646 files for training.\n"
          ]
        }
      ]
    },
    {
      "cell_type": "code",
      "metadata": {
        "id": "pb2Af2lsUShk",
        "colab": {
          "base_uri": "https://localhost:8080/"
        },
        "outputId": "aa7fcabe-6c6a-4890-8080-ae4c139d4dbb"
      },
      "source": [
        "val_ds = tf.keras.preprocessing.image_dataset_from_directory(\n",
        "  val_dir,\n",
        "  validation_split=0.2,\n",
        "  subset=\"validation\",\n",
        "  seed=1314520,\n",
        "  image_size=(IMG_HEIGHT, IMG_WIDTH),\n",
        "  batch_size=BATCH_SIZE,\n",
        "  label_mode='categorical')"
      ],
      "execution_count": null,
      "outputs": [
        {
          "output_type": "stream",
          "name": "stdout",
          "text": [
            "Found 2810 files belonging to 7 classes.\n",
            "Using 562 files for validation.\n"
          ]
        }
      ]
    },
    {
      "cell_type": "markdown",
      "metadata": {
        "id": "Ug3ITsz0b_cF"
      },
      "source": [
        "You can find the class names in the `class_names` attribute on these datasets."
      ]
    },
    {
      "cell_type": "code",
      "metadata": {
        "id": "R7z2yKt7VDPJ",
        "colab": {
          "base_uri": "https://localhost:8080/"
        },
        "outputId": "b660dd7a-0bf4-4020-e502-c88ead2cfb8f"
      },
      "source": [
        "class_names = train_ds.class_names\n",
        "print(class_names)"
      ],
      "execution_count": null,
      "outputs": [
        {
          "output_type": "stream",
          "name": "stdout",
          "text": [
            "['0', '1', '2', '3', '4', '5', '6']\n"
          ]
        }
      ]
    },
    {
      "cell_type": "code",
      "source": [
        "for image_batch, labels_batch in train_ds.take(1):\n",
        "    print(f'Image shape: {image_batch.shape}')"
      ],
      "metadata": {
        "id": "lukBMvViKvXK",
        "colab": {
          "base_uri": "https://localhost:8080/"
        },
        "outputId": "99e81152-dd55-4a2d-81cc-2501b3a8dc57"
      },
      "execution_count": null,
      "outputs": [
        {
          "output_type": "stream",
          "name": "stdout",
          "text": [
            "Image shape: (64, 224, 224, 3)\n"
          ]
        }
      ]
    },
    {
      "cell_type": "markdown",
      "source": [
        "# 1. Build your model with transfer learning"
      ],
      "metadata": {
        "id": "QDWgZ3iFKi4h"
      }
    },
    {
      "cell_type": "code",
      "source": [
        "# Create the base model from the pre-trained model MobileNet V2\n",
        "base_model = tf.keras.applications.MobileNetV2(input_shape=IMG_SHAPE,\n",
        "                                               include_top=False,\n",
        "                                               weights='imagenet')"
      ],
      "metadata": {
        "id": "qtotu2StKlpH"
      },
      "execution_count": null,
      "outputs": []
    },
    {
      "cell_type": "code",
      "source": [
        "feature_batch = base_model(image_batch)\n",
        "print(feature_batch.shape)"
      ],
      "metadata": {
        "id": "J89CXH-gKqMZ",
        "colab": {
          "base_uri": "https://localhost:8080/"
        },
        "outputId": "6d798f40-8ed2-4b4b-d1ed-8c22bba97abb"
      },
      "execution_count": null,
      "outputs": [
        {
          "output_type": "stream",
          "name": "stdout",
          "text": [
            "(64, 7, 7, 1280)\n"
          ]
        }
      ]
    },
    {
      "cell_type": "markdown",
      "source": [
        "## Adding Image Augmentation"
      ],
      "metadata": {
        "id": "dIUE2mNhLChR"
      }
    },
    {
      "cell_type": "markdown",
      "metadata": {
        "id": "ZI5XkGpAW2s0"
      },
      "source": [
        "These are just a few of the options available (for more, see the Keras documentation).\n",
        "\n",
        "- layers.RandomCrop\n",
        "- layers.RandomFlip\n",
        "- layers.RandomTranslation\n",
        "- layers.RandomRotation\n",
        "- layers.RandomZoom\n",
        "- layers.RandomHeight\n",
        "- layers.RandomWidth\n",
        "- layers.RandomContrast\n",
        "\n",
        "https://www.tensorflow.org/guide/keras/preprocessing_layers#image_data_augmentation"
      ]
    },
    {
      "cell_type": "code",
      "metadata": {
        "id": "AVRBtyEBW6PL"
      },
      "source": [
        "# Let's Design proper Image Augmentation Layers\n",
        "from tensorflow.keras import layers\n",
        "\n",
        "data_augmentation = tf.keras.Sequential([\n",
        "    layers.experimental.preprocessing.RandomZoom(height_factor=(-0.2, 0.2), width_factor=(-0.2, 0.2)),\n",
        "    layers.experimental.preprocessing.RandomContrast(factor=(0.5, 1.5)),\n",
        "    layers.experimental.preprocessing.RandomFlip(mode=\"horizontal_and_vertical\"),\n",
        "    layers.experimental.preprocessing.RandomTranslation(height_factor=(-0.2, 0.2), width_factor=(-0.2, 0.2))\n",
        "])"
      ],
      "execution_count": null,
      "outputs": []
    },
    {
      "cell_type": "markdown",
      "metadata": {
        "id": "rlx56nQtfe8Y"
      },
      "source": [
        "## Feature extraction\n",
        "In this step, you will freeze the convolutional base created from the previous step and to use as a feature extractor. Additionally, you add a classifier on top of it and train the top-level classifier."
      ]
    },
    {
      "cell_type": "markdown",
      "metadata": {
        "id": "CnMLieHBCwil"
      },
      "source": [
        "### Freeze the convolutional base\n",
        "\n",
        "It is important to freeze the convolutional base before you compile and train the model. Freezing (by setting layer.trainable = False) prevents the weights in a given layer from being updated during training. MobileNet V2 has many layers, so setting the entire model's trainable flag to False will freeze all the layers."
      ]
    },
    {
      "cell_type": "code",
      "source": [
        "base_model.trainable = False"
      ],
      "metadata": {
        "id": "rRlk0Un-MkES"
      },
      "execution_count": null,
      "outputs": []
    },
    {
      "cell_type": "markdown",
      "source": [
        "## Adding the top prediction layers"
      ],
      "metadata": {
        "id": "0gp5dgvQLGJQ"
      }
    },
    {
      "cell_type": "code",
      "source": [
        "prediction_model = tf.keras.Sequential([\n",
        "    layers.GlobalAveragePooling2D(),\n",
        "    # more layers can go in between (more dense layers, dropout, and etc)\n",
        "    layers.Dense(128, activation=\"relu\"),\n",
        "    layers.Dropout(0.5),\n",
        "    layers.Dense(64, activation=\"relu\"),\n",
        "    layers.Dense(len(label_map), activation=\"softmax\")\n",
        "])"
      ],
      "metadata": {
        "id": "v59cCGvQLeuW"
      },
      "execution_count": null,
      "outputs": []
    },
    {
      "cell_type": "code",
      "source": [
        "model = tf.keras.Sequential([\n",
        "    data_augmentation,\n",
        "    base_model,\n",
        "    prediction_model\n",
        "])\n",
        "\n",
        "optim = tf.keras.optimizers.Adam(learning_rate=1e-4)\n",
        "model.compile(loss='categorical_crossentropy', metrics=['accuracy'], optimizer=optim)\n",
        "image_batch.shape"
      ],
      "metadata": {
        "id": "lP9bAcnZK4f_",
        "colab": {
          "base_uri": "https://localhost:8080/"
        },
        "outputId": "45a9a4ac-5cab-4be6-ecd1-6dd86b80d68a"
      },
      "execution_count": null,
      "outputs": [
        {
          "output_type": "execute_result",
          "data": {
            "text/plain": [
              "TensorShape([64, 224, 224, 3])"
            ]
          },
          "metadata": {},
          "execution_count": 42
        }
      ]
    },
    {
      "cell_type": "code",
      "source": [
        "result_batch = model(image_batch)\n",
        "result_batch.shape"
      ],
      "metadata": {
        "id": "n8rf7sKcMV7m",
        "colab": {
          "base_uri": "https://localhost:8080/"
        },
        "outputId": "9e592e19-a0ee-4c28-963f-32c76336d65e"
      },
      "execution_count": null,
      "outputs": [
        {
          "output_type": "execute_result",
          "data": {
            "text/plain": [
              "TensorShape([64, 7])"
            ]
          },
          "metadata": {},
          "execution_count": 43
        }
      ]
    },
    {
      "cell_type": "code",
      "source": [
        "model.summary()"
      ],
      "metadata": {
        "id": "pGVhqvurMZXE",
        "colab": {
          "base_uri": "https://localhost:8080/"
        },
        "outputId": "49916071-9642-4ef2-eb4e-16091c1b05c3"
      },
      "execution_count": null,
      "outputs": [
        {
          "output_type": "stream",
          "name": "stdout",
          "text": [
            "Model: \"sequential_5\"\n",
            "_________________________________________________________________\n",
            " Layer (type)                Output Shape              Param #   \n",
            "=================================================================\n",
            " sequential_3 (Sequential)   (64, 224, 224, 3)         0         \n",
            "                                                                 \n",
            " mobilenetv2_1.00_224 (Funct  (None, 7, 7, 1280)       2257984   \n",
            " ional)                                                          \n",
            "                                                                 \n",
            " sequential_4 (Sequential)   (64, 7)                   172679    \n",
            "                                                                 \n",
            "=================================================================\n",
            "Total params: 2,430,663\n",
            "Trainable params: 172,679\n",
            "Non-trainable params: 2,257,984\n",
            "_________________________________________________________________\n"
          ]
        }
      ]
    },
    {
      "cell_type": "code",
      "source": [
        "from google.colab import drive\n",
        "drive.mount('/content/drive')"
      ],
      "metadata": {
        "colab": {
          "base_uri": "https://localhost:8080/",
          "height": 346
        },
        "id": "CQVK1BHucbWO",
        "outputId": "e0e66371-0bc1-4714-9a36-158f922dc0c7"
      },
      "execution_count": null,
      "outputs": [
        {
          "output_type": "error",
          "ename": "ValueError",
          "evalue": "ignored",
          "traceback": [
            "\u001b[0;31m---------------------------------------------------------------------------\u001b[0m",
            "\u001b[0;31mValueError\u001b[0m                                Traceback (most recent call last)",
            "\u001b[0;32m<ipython-input-45-4be28ad9ce06>\u001b[0m in \u001b[0;36m<cell line: 2>\u001b[0;34m()\u001b[0m\n\u001b[1;32m      1\u001b[0m \u001b[0;32mfrom\u001b[0m \u001b[0mgoogle\u001b[0m\u001b[0;34m.\u001b[0m\u001b[0mcolab\u001b[0m \u001b[0;32mimport\u001b[0m \u001b[0mdrive\u001b[0m\u001b[0;34m\u001b[0m\u001b[0;34m\u001b[0m\u001b[0m\n\u001b[0;32m----> 2\u001b[0;31m \u001b[0mdrive\u001b[0m\u001b[0;34m.\u001b[0m\u001b[0mmount\u001b[0m\u001b[0;34m(\u001b[0m\u001b[0;34m'/content/drive'\u001b[0m\u001b[0;34m)\u001b[0m\u001b[0;34m\u001b[0m\u001b[0;34m\u001b[0m\u001b[0m\n\u001b[0m",
            "\u001b[0;32m/usr/local/lib/python3.10/dist-packages/google/colab/drive.py\u001b[0m in \u001b[0;36mmount\u001b[0;34m(mountpoint, force_remount, timeout_ms, readonly)\u001b[0m\n\u001b[1;32m    101\u001b[0m \u001b[0;32mdef\u001b[0m \u001b[0mmount\u001b[0m\u001b[0;34m(\u001b[0m\u001b[0mmountpoint\u001b[0m\u001b[0;34m,\u001b[0m \u001b[0mforce_remount\u001b[0m\u001b[0;34m=\u001b[0m\u001b[0;32mFalse\u001b[0m\u001b[0;34m,\u001b[0m \u001b[0mtimeout_ms\u001b[0m\u001b[0;34m=\u001b[0m\u001b[0;36m120000\u001b[0m\u001b[0;34m,\u001b[0m \u001b[0mreadonly\u001b[0m\u001b[0;34m=\u001b[0m\u001b[0;32mFalse\u001b[0m\u001b[0;34m)\u001b[0m\u001b[0;34m:\u001b[0m\u001b[0;34m\u001b[0m\u001b[0;34m\u001b[0m\u001b[0m\n\u001b[1;32m    102\u001b[0m   \u001b[0;34m\"\"\"Mount your Google Drive at the specified mountpoint path.\"\"\"\u001b[0m\u001b[0;34m\u001b[0m\u001b[0;34m\u001b[0m\u001b[0m\n\u001b[0;32m--> 103\u001b[0;31m   return _mount(\n\u001b[0m\u001b[1;32m    104\u001b[0m       \u001b[0mmountpoint\u001b[0m\u001b[0;34m,\u001b[0m\u001b[0;34m\u001b[0m\u001b[0;34m\u001b[0m\u001b[0m\n\u001b[1;32m    105\u001b[0m       \u001b[0mforce_remount\u001b[0m\u001b[0;34m=\u001b[0m\u001b[0mforce_remount\u001b[0m\u001b[0;34m,\u001b[0m\u001b[0;34m\u001b[0m\u001b[0;34m\u001b[0m\u001b[0m\n",
            "\u001b[0;32m/usr/local/lib/python3.10/dist-packages/google/colab/drive.py\u001b[0m in \u001b[0;36m_mount\u001b[0;34m(mountpoint, force_remount, timeout_ms, ephemeral, readonly)\u001b[0m\n\u001b[1;32m    190\u001b[0m       \u001b[0;32mraise\u001b[0m \u001b[0mValueError\u001b[0m\u001b[0;34m(\u001b[0m\u001b[0;34m'Mountpoint must not be a symlink'\u001b[0m\u001b[0;34m)\u001b[0m\u001b[0;34m\u001b[0m\u001b[0;34m\u001b[0m\u001b[0m\n\u001b[1;32m    191\u001b[0m     \u001b[0;32mif\u001b[0m \u001b[0m_os\u001b[0m\u001b[0;34m.\u001b[0m\u001b[0mpath\u001b[0m\u001b[0;34m.\u001b[0m\u001b[0misdir\u001b[0m\u001b[0;34m(\u001b[0m\u001b[0mmountpoint\u001b[0m\u001b[0;34m)\u001b[0m \u001b[0;32mand\u001b[0m \u001b[0m_os\u001b[0m\u001b[0;34m.\u001b[0m\u001b[0mlistdir\u001b[0m\u001b[0;34m(\u001b[0m\u001b[0mmountpoint\u001b[0m\u001b[0;34m)\u001b[0m\u001b[0;34m:\u001b[0m\u001b[0;34m\u001b[0m\u001b[0;34m\u001b[0m\u001b[0m\n\u001b[0;32m--> 192\u001b[0;31m       \u001b[0;32mraise\u001b[0m \u001b[0mValueError\u001b[0m\u001b[0;34m(\u001b[0m\u001b[0;34m'Mountpoint must not already contain files'\u001b[0m\u001b[0;34m)\u001b[0m\u001b[0;34m\u001b[0m\u001b[0;34m\u001b[0m\u001b[0m\n\u001b[0m\u001b[1;32m    193\u001b[0m     \u001b[0;32mif\u001b[0m \u001b[0;32mnot\u001b[0m \u001b[0m_os\u001b[0m\u001b[0;34m.\u001b[0m\u001b[0mpath\u001b[0m\u001b[0;34m.\u001b[0m\u001b[0misdir\u001b[0m\u001b[0;34m(\u001b[0m\u001b[0mmountpoint\u001b[0m\u001b[0;34m)\u001b[0m \u001b[0;32mand\u001b[0m \u001b[0m_os\u001b[0m\u001b[0;34m.\u001b[0m\u001b[0mpath\u001b[0m\u001b[0;34m.\u001b[0m\u001b[0mexists\u001b[0m\u001b[0;34m(\u001b[0m\u001b[0mmountpoint\u001b[0m\u001b[0;34m)\u001b[0m\u001b[0;34m:\u001b[0m\u001b[0;34m\u001b[0m\u001b[0;34m\u001b[0m\u001b[0m\n\u001b[1;32m    194\u001b[0m       \u001b[0;32mraise\u001b[0m \u001b[0mValueError\u001b[0m\u001b[0;34m(\u001b[0m\u001b[0;34m'Mountpoint must either be a directory or not exist'\u001b[0m\u001b[0;34m)\u001b[0m\u001b[0;34m\u001b[0m\u001b[0;34m\u001b[0m\u001b[0m\n",
            "\u001b[0;31mValueError\u001b[0m: Mountpoint must not already contain files"
          ]
        }
      ]
    },
    {
      "cell_type": "code",
      "source": [
        "# Train your model\n",
        "\n",
        "# Don't forget to save your model\n",
        "################################################################################\n",
        "## For your project, change the directory to a Google Drive Folder for safety ##\n",
        "################################################################################\n",
        "\n",
        "checkpoint_path = Path('/content/drive/MyDrive/checkpoints/mobilenet/run1/')\n",
        "checkpoint_path.mkdir(parents=True, exist_ok=True)\n",
        "path_model = '/content/drive/MyDrive/checkpoints/mobilenet/run1/{epoch:02d}-{val_loss:.6f}.hdf5'\n",
        "initial_epochs = 50\n",
        "history = model.fit(train_ds,\n",
        "                    epochs=initial_epochs,\n",
        "                    validation_data=val_ds,\n",
        "                    use_multiprocessing=True,\n",
        "                    workers=4,\n",
        "                    callbacks=[\n",
        "                        ModelCheckpoint(filepath=path_model),\n",
        "                        EarlyStopping(patience=15),\n",
        "                        ReduceLROnPlateau(patience=6, factor=0.3)]\n",
        ")"
      ],
      "metadata": {
        "id": "K_YHQ9nJPZNB",
        "colab": {
          "base_uri": "https://localhost:8080/"
        },
        "outputId": "5e3446c1-2b14-4059-fdad-ab707021e336"
      },
      "execution_count": null,
      "outputs": [
        {
          "output_type": "stream",
          "name": "stdout",
          "text": [
            "Epoch 1/50\n",
            "323/323 [==============================] - 41s 109ms/step - loss: 1.8941 - accuracy: 0.2220 - val_loss: 1.8257 - val_accuracy: 0.2224 - lr: 1.0000e-04\n",
            "Epoch 2/50\n",
            "323/323 [==============================] - 35s 107ms/step - loss: 1.8288 - accuracy: 0.2336 - val_loss: 1.8096 - val_accuracy: 0.2313 - lr: 1.0000e-04\n",
            "Epoch 3/50\n",
            "323/323 [==============================] - 36s 111ms/step - loss: 1.8152 - accuracy: 0.2429 - val_loss: 1.8024 - val_accuracy: 0.2242 - lr: 1.0000e-04\n",
            "Epoch 4/50\n",
            "323/323 [==============================] - 36s 109ms/step - loss: 1.8034 - accuracy: 0.2466 - val_loss: 1.7964 - val_accuracy: 0.2367 - lr: 1.0000e-04\n",
            "Epoch 5/50\n",
            "323/323 [==============================] - 35s 107ms/step - loss: 1.7986 - accuracy: 0.2546 - val_loss: 1.7802 - val_accuracy: 0.2367 - lr: 1.0000e-04\n",
            "Epoch 6/50\n",
            "323/323 [==============================] - 37s 113ms/step - loss: 1.7915 - accuracy: 0.2547 - val_loss: 1.7867 - val_accuracy: 0.2331 - lr: 1.0000e-04\n",
            "Epoch 7/50\n",
            "323/323 [==============================] - 35s 108ms/step - loss: 1.7828 - accuracy: 0.2595 - val_loss: 1.7738 - val_accuracy: 0.2456 - lr: 1.0000e-04\n",
            "Epoch 8/50\n",
            "323/323 [==============================] - 35s 107ms/step - loss: 1.7757 - accuracy: 0.2647 - val_loss: 1.7690 - val_accuracy: 0.2367 - lr: 1.0000e-04\n",
            "Epoch 9/50\n",
            "323/323 [==============================] - 37s 114ms/step - loss: 1.7766 - accuracy: 0.2674 - val_loss: 1.7661 - val_accuracy: 0.2402 - lr: 1.0000e-04\n",
            "Epoch 10/50\n",
            "323/323 [==============================] - 36s 111ms/step - loss: 1.7623 - accuracy: 0.2777 - val_loss: 1.7632 - val_accuracy: 0.2438 - lr: 1.0000e-04\n",
            "Epoch 11/50\n",
            "323/323 [==============================] - 36s 112ms/step - loss: 1.7650 - accuracy: 0.2771 - val_loss: 1.7602 - val_accuracy: 0.2438 - lr: 1.0000e-04\n",
            "Epoch 12/50\n",
            "323/323 [==============================] - 35s 107ms/step - loss: 1.7623 - accuracy: 0.2761 - val_loss: 1.7651 - val_accuracy: 0.2456 - lr: 1.0000e-04\n",
            "Epoch 13/50\n",
            "323/323 [==============================] - 36s 109ms/step - loss: 1.7617 - accuracy: 0.2734 - val_loss: 1.7556 - val_accuracy: 0.2544 - lr: 1.0000e-04\n",
            "Epoch 14/50\n",
            "323/323 [==============================] - 35s 106ms/step - loss: 1.7613 - accuracy: 0.2735 - val_loss: 1.7630 - val_accuracy: 0.2527 - lr: 1.0000e-04\n",
            "Epoch 15/50\n",
            "323/323 [==============================] - 37s 113ms/step - loss: 1.7590 - accuracy: 0.2777 - val_loss: 1.7520 - val_accuracy: 0.2562 - lr: 1.0000e-04\n",
            "Epoch 16/50\n",
            "323/323 [==============================] - 34s 106ms/step - loss: 1.7568 - accuracy: 0.2788 - val_loss: 1.7466 - val_accuracy: 0.2616 - lr: 1.0000e-04\n",
            "Epoch 17/50\n",
            "323/323 [==============================] - 36s 110ms/step - loss: 1.7554 - accuracy: 0.2791 - val_loss: 1.7476 - val_accuracy: 0.2722 - lr: 1.0000e-04\n",
            "Epoch 18/50\n",
            "323/323 [==============================] - 34s 106ms/step - loss: 1.7512 - accuracy: 0.2790 - val_loss: 1.7576 - val_accuracy: 0.2633 - lr: 1.0000e-04\n",
            "Epoch 19/50\n",
            "323/323 [==============================] - 36s 110ms/step - loss: 1.7418 - accuracy: 0.2922 - val_loss: 1.7457 - val_accuracy: 0.2687 - lr: 1.0000e-04\n",
            "Epoch 20/50\n",
            "323/323 [==============================] - 36s 111ms/step - loss: 1.7476 - accuracy: 0.2883 - val_loss: 1.7418 - val_accuracy: 0.2758 - lr: 1.0000e-04\n",
            "Epoch 21/50\n",
            "323/323 [==============================] - 35s 106ms/step - loss: 1.7452 - accuracy: 0.2881 - val_loss: 1.7488 - val_accuracy: 0.2669 - lr: 1.0000e-04\n",
            "Epoch 22/50\n",
            "323/323 [==============================] - 36s 111ms/step - loss: 1.7413 - accuracy: 0.2870 - val_loss: 1.7375 - val_accuracy: 0.2758 - lr: 1.0000e-04\n",
            "Epoch 23/50\n",
            "323/323 [==============================] - 35s 107ms/step - loss: 1.7401 - accuracy: 0.2891 - val_loss: 1.7356 - val_accuracy: 0.2829 - lr: 1.0000e-04\n",
            "Epoch 24/50\n",
            "323/323 [==============================] - 36s 110ms/step - loss: 1.7386 - accuracy: 0.2902 - val_loss: 1.7411 - val_accuracy: 0.2758 - lr: 1.0000e-04\n",
            "Epoch 25/50\n",
            "323/323 [==============================] - 34s 106ms/step - loss: 1.7425 - accuracy: 0.2900 - val_loss: 1.7370 - val_accuracy: 0.2758 - lr: 1.0000e-04\n",
            "Epoch 26/50\n",
            "323/323 [==============================] - 36s 109ms/step - loss: 1.7419 - accuracy: 0.2887 - val_loss: 1.7469 - val_accuracy: 0.2616 - lr: 1.0000e-04\n",
            "Epoch 27/50\n",
            "323/323 [==============================] - 35s 108ms/step - loss: 1.7380 - accuracy: 0.2908 - val_loss: 1.7337 - val_accuracy: 0.2900 - lr: 1.0000e-04\n",
            "Epoch 28/50\n",
            "323/323 [==============================] - 36s 110ms/step - loss: 1.7368 - accuracy: 0.2906 - val_loss: 1.7375 - val_accuracy: 0.2811 - lr: 1.0000e-04\n",
            "Epoch 29/50\n",
            "323/323 [==============================] - 36s 111ms/step - loss: 1.7325 - accuracy: 0.2939 - val_loss: 1.7428 - val_accuracy: 0.2687 - lr: 1.0000e-04\n",
            "Epoch 30/50\n",
            "323/323 [==============================] - 35s 107ms/step - loss: 1.7306 - accuracy: 0.2966 - val_loss: 1.7398 - val_accuracy: 0.2722 - lr: 1.0000e-04\n",
            "Epoch 31/50\n",
            "323/323 [==============================] - 35s 108ms/step - loss: 1.7236 - accuracy: 0.2989 - val_loss: 1.7314 - val_accuracy: 0.2883 - lr: 1.0000e-04\n",
            "Epoch 32/50\n",
            "323/323 [==============================] - 35s 107ms/step - loss: 1.7332 - accuracy: 0.2967 - val_loss: 1.7349 - val_accuracy: 0.2758 - lr: 1.0000e-04\n",
            "Epoch 33/50\n",
            "323/323 [==============================] - 35s 106ms/step - loss: 1.7348 - accuracy: 0.2916 - val_loss: 1.7414 - val_accuracy: 0.2740 - lr: 1.0000e-04\n",
            "Epoch 34/50\n",
            "323/323 [==============================] - 37s 113ms/step - loss: 1.7344 - accuracy: 0.2939 - val_loss: 1.7408 - val_accuracy: 0.2580 - lr: 1.0000e-04\n",
            "Epoch 35/50\n",
            "323/323 [==============================] - 35s 107ms/step - loss: 1.7299 - accuracy: 0.3000 - val_loss: 1.7400 - val_accuracy: 0.2705 - lr: 1.0000e-04\n",
            "Epoch 36/50\n",
            "323/323 [==============================] - 36s 111ms/step - loss: 1.7263 - accuracy: 0.2987 - val_loss: 1.7307 - val_accuracy: 0.2758 - lr: 1.0000e-04\n",
            "Epoch 37/50\n",
            "323/323 [==============================] - 35s 108ms/step - loss: 1.7218 - accuracy: 0.2981 - val_loss: 1.7321 - val_accuracy: 0.2883 - lr: 1.0000e-04\n",
            "Epoch 38/50\n",
            "323/323 [==============================] - 34s 103ms/step - loss: 1.7238 - accuracy: 0.3043 - val_loss: 1.7344 - val_accuracy: 0.2776 - lr: 1.0000e-04\n",
            "Epoch 39/50\n",
            "323/323 [==============================] - 34s 103ms/step - loss: 1.7280 - accuracy: 0.3034 - val_loss: 1.7288 - val_accuracy: 0.2900 - lr: 1.0000e-04\n",
            "Epoch 40/50\n",
            "323/323 [==============================] - 33s 103ms/step - loss: 1.7274 - accuracy: 0.2989 - val_loss: 1.7324 - val_accuracy: 0.2651 - lr: 1.0000e-04\n",
            "Epoch 41/50\n",
            "323/323 [==============================] - 33s 103ms/step - loss: 1.7250 - accuracy: 0.3013 - val_loss: 1.7288 - val_accuracy: 0.2776 - lr: 1.0000e-04\n",
            "Epoch 42/50\n",
            "323/323 [==============================] - 34s 103ms/step - loss: 1.7263 - accuracy: 0.2963 - val_loss: 1.7338 - val_accuracy: 0.2865 - lr: 1.0000e-04\n",
            "Epoch 43/50\n",
            "323/323 [==============================] - 33s 101ms/step - loss: 1.7229 - accuracy: 0.3054 - val_loss: 1.7297 - val_accuracy: 0.2651 - lr: 1.0000e-04\n",
            "Epoch 44/50\n",
            "323/323 [==============================] - 33s 103ms/step - loss: 1.7200 - accuracy: 0.3033 - val_loss: 1.7279 - val_accuracy: 0.2865 - lr: 1.0000e-04\n",
            "Epoch 45/50\n",
            "323/323 [==============================] - 33s 102ms/step - loss: 1.7215 - accuracy: 0.3021 - val_loss: 1.7305 - val_accuracy: 0.2811 - lr: 1.0000e-04\n",
            "Epoch 46/50\n",
            "323/323 [==============================] - 34s 104ms/step - loss: 1.7198 - accuracy: 0.3054 - val_loss: 1.7295 - val_accuracy: 0.2936 - lr: 1.0000e-04\n",
            "Epoch 47/50\n",
            "323/323 [==============================] - 34s 103ms/step - loss: 1.7242 - accuracy: 0.3005 - val_loss: 1.7272 - val_accuracy: 0.2811 - lr: 1.0000e-04\n",
            "Epoch 48/50\n",
            "323/323 [==============================] - 33s 102ms/step - loss: 1.7158 - accuracy: 0.3076 - val_loss: 1.7364 - val_accuracy: 0.2722 - lr: 1.0000e-04\n",
            "Epoch 49/50\n",
            "323/323 [==============================] - 33s 102ms/step - loss: 1.7175 - accuracy: 0.3061 - val_loss: 1.7302 - val_accuracy: 0.2847 - lr: 1.0000e-04\n",
            "Epoch 50/50\n",
            "323/323 [==============================] - 34s 103ms/step - loss: 1.7217 - accuracy: 0.3056 - val_loss: 1.7275 - val_accuracy: 0.2989 - lr: 1.0000e-04\n"
          ]
        }
      ]
    },
    {
      "cell_type": "markdown",
      "source": [
        "# Continue fine-tuning your model"
      ],
      "metadata": {
        "id": "zezIOiEuMuDr"
      }
    },
    {
      "cell_type": "markdown",
      "metadata": {
        "id": "CqwV-CRdS6Nv"
      },
      "source": [
        "## Fine tuning\n",
        "In the feature extraction experiment, you were only training a few layers on top of an MobileNet V2 base model. The weights of the pre-trained network were **not** updated during training.\n",
        "\n",
        "One way to increase performance even further is to train (or \"fine-tune\") the weights of the top layers of the pre-trained model alongside the training of the classifier you added. The training process will force the weights to be tuned from generic feature maps to features associated specifically with the dataset.\n",
        "\n",
        "Note: This should only be attempted after you have trained the top-level classifier with the pre-trained model set to non-trainable. If you add a randomly initialized classifier on top of a pre-trained model and attempt to train all layers jointly, the magnitude of the gradient updates will be too large (due to the random weights from the classifier) and your pre-trained model will forget what it has learned.\n",
        "\n",
        "Also, you should try to fine-tune a small number of top layers rather than the whole MobileNet model. In most convolutional networks, the higher up a layer is, the more specialized it is. The first few layers learn very simple and generic features that generalize to almost all types of images. As you go higher up, the features are increasingly more specific to the dataset on which the model was trained. The goal of fine-tuning is to adapt these specialized features to work with the new dataset, rather than overwrite the generic learning."
      ]
    },
    {
      "cell_type": "markdown",
      "metadata": {
        "id": "CPXnzUK0QonF"
      },
      "source": [
        "### Un-freeze the top layers of the model\n"
      ]
    },
    {
      "cell_type": "markdown",
      "metadata": {
        "id": "rfxv_ifotQak"
      },
      "source": [
        "All you need to do is unfreeze the `base_model` and set the bottom layers to be un-trainable. Then, you should recompile the model (necessary for these changes to take effect), and resume training."
      ]
    },
    {
      "cell_type": "code",
      "source": [
        "# continue improving your model\n",
        "base_model.trainable = True\n",
        "\n",
        "print(\"Number of layers in the base model: \", len(base_model.layers))\n",
        "\n",
        "fine_tune_at = 100\n",
        "\n",
        "for layer in base_model.layers[:fine_tune_at]:\n",
        "  layer.trainable =  False\n"
      ],
      "metadata": {
        "id": "iwU6Jr-yM9ge",
        "colab": {
          "base_uri": "https://localhost:8080/"
        },
        "outputId": "41d46a17-dd1e-40ec-a9de-abd85e5eee2d"
      },
      "execution_count": null,
      "outputs": [
        {
          "output_type": "stream",
          "name": "stdout",
          "text": [
            "Number of layers in the base model:  154\n"
          ]
        }
      ]
    },
    {
      "cell_type": "code",
      "source": [
        "optim = tf.keras.optimizers.Adam(learning_rate=1e-4)\n",
        "model.compile(loss='categorical_crossentropy', metrics=['accuracy'], optimizer=optim)\n",
        "image_batch.shape"
      ],
      "metadata": {
        "id": "oIZ5Ps4FJ2SW",
        "colab": {
          "base_uri": "https://localhost:8080/"
        },
        "outputId": "34f9fc6b-ef17-4d0e-b25a-85b79da15ef7"
      },
      "execution_count": null,
      "outputs": [
        {
          "output_type": "execute_result",
          "data": {
            "text/plain": [
              "TensorShape([64, 224, 224, 3])"
            ]
          },
          "metadata": {},
          "execution_count": 48
        }
      ]
    },
    {
      "cell_type": "code",
      "source": [
        "# Train your model for run #2\n",
        "\n",
        "# Don't forget to save your model\n",
        "################################################################################\n",
        "## For your project, change the directory to a Google Drive Folder for safety ##\n",
        "################################################################################\n",
        "\n",
        "checkpoint_path = Path('/content/drive/MyDrive/checkpoints/mobilenet/run2')\n",
        "checkpoint_path.mkdir(parents=True, exist_ok=True)\n",
        "path_model='/content/drive/MyDrive/checkpoints/mobilenet/run2/{epoch:02d}-{val_loss:.6f}.hdf5'\n",
        "\n",
        "fine_tune_epochs = 30\n",
        "total_epochs =  initial_epochs + fine_tune_epochs\n",
        "\n",
        "history = model.fit(train_ds,\n",
        "                    epochs=total_epochs,\n",
        "                    initial_epoch = history.epoch[-1],\n",
        "                    validation_data=val_ds,\n",
        "                    use_multiprocessing=True,\n",
        "                    workers=4,\n",
        "                    callbacks=[\n",
        "                        ModelCheckpoint(filepath=path_model),\n",
        "                        EarlyStopping(patience=15),\n",
        "                        ReduceLROnPlateau(patience=6, factor=0.3)]\n",
        ")\n"
      ],
      "metadata": {
        "id": "Jz7cYwDZQBz5",
        "colab": {
          "base_uri": "https://localhost:8080/"
        },
        "outputId": "0af97fa9-835e-4844-b6bf-4da2e1aa2cc9"
      },
      "execution_count": null,
      "outputs": [
        {
          "output_type": "stream",
          "name": "stdout",
          "text": [
            "Epoch 50/80\n",
            "323/323 [==============================] - 61s 139ms/step - loss: 1.7336 - accuracy: 0.2924 - val_loss: 2.6502 - val_accuracy: 0.1815 - lr: 1.0000e-04\n",
            "Epoch 51/80\n",
            "323/323 [==============================] - 44s 135ms/step - loss: 1.6298 - accuracy: 0.3595 - val_loss: 2.3098 - val_accuracy: 0.2633 - lr: 1.0000e-04\n",
            "Epoch 52/80\n",
            "323/323 [==============================] - 43s 133ms/step - loss: 1.5709 - accuracy: 0.3922 - val_loss: 1.9982 - val_accuracy: 0.2936 - lr: 1.0000e-04\n",
            "Epoch 53/80\n",
            "323/323 [==============================] - 44s 135ms/step - loss: 1.5325 - accuracy: 0.4091 - val_loss: 1.8673 - val_accuracy: 0.2740 - lr: 1.0000e-04\n",
            "Epoch 54/80\n",
            "323/323 [==============================] - 44s 136ms/step - loss: 1.4961 - accuracy: 0.4275 - val_loss: 2.0026 - val_accuracy: 0.2562 - lr: 1.0000e-04\n",
            "Epoch 55/80\n",
            "323/323 [==============================] - 44s 135ms/step - loss: 1.4719 - accuracy: 0.4359 - val_loss: 1.7205 - val_accuracy: 0.3274 - lr: 1.0000e-04\n",
            "Epoch 56/80\n",
            "323/323 [==============================] - 44s 135ms/step - loss: 1.4439 - accuracy: 0.4489 - val_loss: 1.7078 - val_accuracy: 0.3594 - lr: 1.0000e-04\n",
            "Epoch 57/80\n",
            "323/323 [==============================] - 43s 133ms/step - loss: 1.4311 - accuracy: 0.4544 - val_loss: 1.4828 - val_accuracy: 0.4093 - lr: 1.0000e-04\n",
            "Epoch 58/80\n",
            "323/323 [==============================] - 43s 133ms/step - loss: 1.3989 - accuracy: 0.4671 - val_loss: 1.4309 - val_accuracy: 0.4644 - lr: 1.0000e-04\n",
            "Epoch 59/80\n",
            "323/323 [==============================] - 44s 134ms/step - loss: 1.3764 - accuracy: 0.4776 - val_loss: 1.5149 - val_accuracy: 0.4128 - lr: 1.0000e-04\n",
            "Epoch 60/80\n",
            "323/323 [==============================] - 45s 137ms/step - loss: 1.3672 - accuracy: 0.4841 - val_loss: 1.4387 - val_accuracy: 0.4431 - lr: 1.0000e-04\n",
            "Epoch 61/80\n",
            "323/323 [==============================] - 44s 135ms/step - loss: 1.3476 - accuracy: 0.4902 - val_loss: 1.4036 - val_accuracy: 0.4413 - lr: 1.0000e-04\n",
            "Epoch 62/80\n",
            "323/323 [==============================] - 43s 133ms/step - loss: 1.3354 - accuracy: 0.4966 - val_loss: 1.4258 - val_accuracy: 0.4395 - lr: 1.0000e-04\n",
            "Epoch 63/80\n",
            "323/323 [==============================] - 43s 132ms/step - loss: 1.3214 - accuracy: 0.4971 - val_loss: 1.3535 - val_accuracy: 0.4822 - lr: 1.0000e-04\n",
            "Epoch 64/80\n",
            "323/323 [==============================] - 44s 134ms/step - loss: 1.3149 - accuracy: 0.5027 - val_loss: 1.3856 - val_accuracy: 0.4893 - lr: 1.0000e-04\n",
            "Epoch 65/80\n",
            "323/323 [==============================] - 44s 135ms/step - loss: 1.2970 - accuracy: 0.5166 - val_loss: 1.3108 - val_accuracy: 0.4804 - lr: 1.0000e-04\n",
            "Epoch 66/80\n",
            "323/323 [==============================] - 43s 133ms/step - loss: 1.2798 - accuracy: 0.5134 - val_loss: 1.3456 - val_accuracy: 0.5018 - lr: 1.0000e-04\n",
            "Epoch 67/80\n",
            "323/323 [==============================] - 43s 131ms/step - loss: 1.2797 - accuracy: 0.5190 - val_loss: 1.3283 - val_accuracy: 0.4929 - lr: 1.0000e-04\n",
            "Epoch 68/80\n",
            "323/323 [==============================] - 42s 131ms/step - loss: 1.2606 - accuracy: 0.5227 - val_loss: 1.2591 - val_accuracy: 0.5356 - lr: 1.0000e-04\n",
            "Epoch 69/80\n",
            "323/323 [==============================] - 44s 134ms/step - loss: 1.2538 - accuracy: 0.5283 - val_loss: 1.3315 - val_accuracy: 0.4947 - lr: 1.0000e-04\n",
            "Epoch 70/80\n",
            "323/323 [==============================] - 43s 132ms/step - loss: 1.2371 - accuracy: 0.5330 - val_loss: 1.3436 - val_accuracy: 0.4875 - lr: 1.0000e-04\n",
            "Epoch 71/80\n",
            "323/323 [==============================] - 43s 131ms/step - loss: 1.2346 - accuracy: 0.5342 - val_loss: 1.3415 - val_accuracy: 0.4769 - lr: 1.0000e-04\n",
            "Epoch 72/80\n",
            "323/323 [==============================] - 44s 134ms/step - loss: 1.2261 - accuracy: 0.5399 - val_loss: 1.2886 - val_accuracy: 0.5125 - lr: 1.0000e-04\n",
            "Epoch 73/80\n",
            "323/323 [==============================] - 43s 132ms/step - loss: 1.2140 - accuracy: 0.5420 - val_loss: 1.2710 - val_accuracy: 0.5071 - lr: 1.0000e-04\n",
            "Epoch 74/80\n",
            "323/323 [==============================] - 43s 133ms/step - loss: 1.2032 - accuracy: 0.5504 - val_loss: 1.2915 - val_accuracy: 0.5160 - lr: 1.0000e-04\n",
            "Epoch 75/80\n",
            "323/323 [==============================] - 43s 133ms/step - loss: 1.1781 - accuracy: 0.5573 - val_loss: 1.2506 - val_accuracy: 0.5249 - lr: 3.0000e-05\n",
            "Epoch 76/80\n",
            "323/323 [==============================] - 43s 132ms/step - loss: 1.1766 - accuracy: 0.5589 - val_loss: 1.2347 - val_accuracy: 0.5231 - lr: 3.0000e-05\n",
            "Epoch 77/80\n",
            "323/323 [==============================] - 43s 133ms/step - loss: 1.1683 - accuracy: 0.5625 - val_loss: 1.2517 - val_accuracy: 0.5302 - lr: 3.0000e-05\n",
            "Epoch 78/80\n",
            "323/323 [==============================] - 44s 134ms/step - loss: 1.1584 - accuracy: 0.5624 - val_loss: 1.2648 - val_accuracy: 0.4893 - lr: 3.0000e-05\n",
            "Epoch 79/80\n",
            "323/323 [==============================] - 42s 131ms/step - loss: 1.1537 - accuracy: 0.5644 - val_loss: 1.2601 - val_accuracy: 0.4964 - lr: 3.0000e-05\n",
            "Epoch 80/80\n",
            "323/323 [==============================] - 43s 132ms/step - loss: 1.1562 - accuracy: 0.5654 - val_loss: 1.2520 - val_accuracy: 0.4964 - lr: 3.0000e-05\n"
          ]
        }
      ]
    },
    {
      "cell_type": "markdown",
      "source": [
        "# Final Submission\n",
        "\n",
        "To submit the final model\n",
        "\n",
        "\n",
        "1.   In the following session, evaluate your model on the validation set provided, and report your (highest) accuracy.\n",
        "2.   Upload your best-performing model save files to Google Classroom as a candidate for the best-performing award!\n",
        "\n"
      ],
      "metadata": {
        "id": "SoJ_lLj3NsIS"
      }
    },
    {
      "cell_type": "code",
      "source": [
        "acc = history.history['accuracy']\n",
        "val_acc = history.history['val_accuracy']\n",
        "\n",
        "loss = history.history['loss']\n",
        "val_loss = history.history['val_loss']\n",
        "\n",
        "plt.figure(figsize=(8, 8))\n",
        "plt.subplot(2, 1, 1)\n",
        "plt.plot(acc, label='Training Accuracy')\n",
        "plt.plot(val_acc, label='Validation Accuracy')\n",
        "plt.legend(loc='lower right')\n",
        "plt.ylabel('Accuracy')\n",
        "plt.ylim([min(plt.ylim()),1])\n",
        "plt.title('Training and Validation Accuracy')\n",
        "\n",
        "plt.subplot(2, 1, 2)\n",
        "plt.plot(loss, label='Training Loss')\n",
        "plt.plot(val_loss, label='Validation Loss')\n",
        "plt.legend(loc='upper right')\n",
        "plt.ylabel('Cross Entropy')\n",
        "plt.ylim([0,4])\n",
        "plt.title('Training and Validation Loss')\n",
        "plt.xlabel('epoch')\n",
        "plt.show()"
      ],
      "metadata": {
        "id": "sKlGowYnOCPR",
        "colab": {
          "base_uri": "https://localhost:8080/",
          "height": 718
        },
        "outputId": "d0d32a36-e9fc-4c30-e4c7-77c89d6ae4fe"
      },
      "execution_count": null,
      "outputs": [
        {
          "output_type": "display_data",
          "data": {
            "text/plain": [
              "<Figure size 800x800 with 2 Axes>"
            ],
            "image/png": "[encoded data removed]"
          },
          "metadata": {}
        }
      ]
    },
    {
      "cell_type": "code",
      "source": [
        "# Save your best performing model, and upload the save file to Google Classroom along with your submission\n",
        "\n"
      ],
      "metadata": {
        "id": "EFgU3Bz5OHox"
      },
      "execution_count": null,
      "outputs": []
    }
  ]
}